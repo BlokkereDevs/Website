{
 "cells": [
  {
   "cell_type": "code",
   "execution_count": 3,
   "id": "676ed5c2",
   "metadata": {},
   "outputs": [
    {
     "name": "stdout",
     "output_type": "stream",
     "text": [
      "1/1 [==============================] - 0s 266ms/step\n"
     ]
    }
   ],
   "source": [
    "##################### HELPER FUNCTIONS #####################\n",
    "\n",
    "def getBitcoinValue():\n",
    "   #Getting the data from the API\n",
    "   url = 'https://api.coindesk.com/v1/bpi/currentprice.json'\n",
    "   response = requests.get(url)\n",
    "   data = response.json()\n",
    "   return float(data['bpi']['USD']['rate'].replace(\",\", \"\"))\n",
    "\n",
    "##################### IMPORT STATEMENTS #####################\n",
    "\n",
    "from multiprocessing.dummy import active_children\n",
    "import os\n",
    "import warnings\n",
    "\n",
    "import openpyxl\n",
    "warnings.filterwarnings('ignore')\n",
    "os.environ['TF_CPP_MIN_LOG_LEVEL'] = '3'\n",
    "\n",
    "##### TENSORFLOW\n",
    "from tensorflow import keras\n",
    "\n",
    "##### SKLEARN\n",
    "from sklearn.model_selection import train_test_split\n",
    "from sklearn.preprocessing import MinMaxScaler\n",
    "\n",
    "##### OTHER IMPORTS\n",
    "from pathlib import Path\n",
    "import datetime\n",
    "import yfinance as yf\n",
    "import pandas as pd\n",
    "import numpy as np\n",
    "from operator import eq\n",
    "import random\n",
    "import requests\n",
    "\n",
    "##################### READ EXCEL FILE AND GENERATE \"DATA\" #####################\n",
    "\n",
    "data = pd.read_excel('StockDataCSV/BTCBotData-Hourly.xlsx', engine='openpyxl')['Adj Close']\n",
    "\n",
    "data = np.array(data)\n",
    "data = np.reshape(data, (-1, 1))\n",
    "\n",
    "train_data, test_data = train_test_split(data, train_size=0.8, test_size=0.2, shuffle=False)\n",
    "scaler = MinMaxScaler()\n",
    "scaled_train_data = scaler.fit_transform(train_data)\n",
    "scaled_test_data = scaler.transform(test_data)\n",
    "\n",
    "##################### LOAD PREV DATA AND PREDICTION, ACTUAL DATA FILE #####################\n",
    "\n",
    "read_f = pd.read_excel('StockDataCSV/Hourly_Start_Data_new.xlsx',engine='openpyxl')\n",
    "std = np.array(read_f.iloc[:,1])\n",
    "std = np.reshape(std, (-1, 1))\n",
    "\n",
    "pr = pd.read_excel('StockDataCSV/Prediction.xlsx')\n",
    "pr = np.array(pr.iloc[:,1])\n",
    "\n",
    "act = pd.read_excel('StockDataCSV/Actual.xlsx')\n",
    "act = np.array(act.iloc[:,1])\n",
    "\n",
    "##################### IMPORT MODEL FROM PREDEFINED H5 #####################\n",
    "\n",
    "model = keras.models.load_model('results/lstm_time_series/model_hourly.h5')\n",
    "\n",
    "##################### PREDICT THE NEXT VALUE #####################\n",
    "\n",
    "m = []\n",
    "m.append(std[std.size-60:std.size])\n",
    "m1 = np.array(m)\n",
    "m2 = np.reshape(m1, (m1.shape[0], m1.shape[1], 1))\n",
    "p = model.predict(m2)\n",
    "pr = np.append(pr, scaler.inverse_transform(p).flatten())\n",
    "\n",
    "### GET ACTUAL VALUE\n",
    "actualValue = getBitcoinValue()\n",
    "avreshape = np.reshape(actualValue, (-1, 1))\n",
    "\n",
    "std = np.append(std, scaler.transform(avreshape))\n",
    "act = np.append(act,avreshape)\n",
    "\n",
    "\n",
    "\n",
    "##################### APPEND TO CSV TYPE FILE #####################\n",
    "pd.DataFrame(pr).to_excel('StockDataCSV/Prediction.xlsx')\n",
    "pd.DataFrame(std).to_excel('StockDataCSV/Hourly_Start_Data_new.xlsx')\n",
    "pd.DataFrame(act).to_excel('StockDataCSV/Actual.xlsx')"
   ]
  },
  {
   "cell_type": "code",
   "execution_count": null,
   "id": "ea2790c4",
   "metadata": {},
   "outputs": [],
   "source": []
  }
 ],
 "metadata": {
  "kernelspec": {
   "display_name": "Python 3 (ipykernel)",
   "language": "python",
   "name": "python3"
  },
  "language_info": {
   "codemirror_mode": {
    "name": "ipython",
    "version": 3
   },
   "file_extension": ".py",
   "mimetype": "text/x-python",
   "name": "python",
   "nbconvert_exporter": "python",
   "pygments_lexer": "ipython3",
   "version": "3.9.7"
  },
  "varInspector": {
   "cols": {
    "lenName": 16,
    "lenType": 16,
    "lenVar": 40
   },
   "kernels_config": {
    "python": {
     "delete_cmd_postfix": "",
     "delete_cmd_prefix": "del ",
     "library": "var_list.py",
     "varRefreshCmd": "print(var_dic_list())"
    },
    "r": {
     "delete_cmd_postfix": ") ",
     "delete_cmd_prefix": "rm(",
     "library": "var_list.r",
     "varRefreshCmd": "cat(var_dic_list()) "
    }
   },
   "types_to_exclude": [
    "module",
    "function",
    "builtin_function_or_method",
    "instance",
    "_Feature"
   ],
   "window_display": false
  }
 },
 "nbformat": 4,
 "nbformat_minor": 5
}
