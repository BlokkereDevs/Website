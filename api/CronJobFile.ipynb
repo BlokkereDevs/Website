{
 "cells": [
  {
   "cell_type": "code",
   "execution_count": 2,
   "id": "bb3c3623",
   "metadata": {},
   "outputs": [],
   "source": [
    "# supress warnings\n",
    "import warnings\n",
    "warnings.filterwarnings('ignore')\n",
    "\n",
    "import os\n",
    "import random\n",
    "os.environ['TF_CPP_MIN_LOG_LEVEL'] = '3'\n",
    "\n",
    "from operator import eq\n",
    "import pandas as pd\n",
    "import yfinance as yf\n",
    "\n",
    "import datetime\n",
    "from pathlib import Path\n",
    "\n",
    "## IMPORT SKLEARN\n",
    "from sklearn import tree\n",
    "from sklearn.linear_model import LinearRegression, LogisticRegression\n",
    "from sklearn.model_selection import train_test_split\n",
    "from sklearn.metrics import classification_report, confusion_matrix, accuracy_score, plot_confusion_matrix, plot_roc_curve, mean_squared_error, r2_score\n",
    "from sklearn.preprocessing import StandardScaler, MinMaxScaler, MaxAbsScaler\n",
    "from sklearn.model_selection import train_test_split, RandomizedSearchCV, TimeSeriesSplit, cross_val_score, GridSearchCV\n"
   ]
  },
  {
   "cell_type": "code",
   "execution_count": 29,
   "id": "9fcc64e2",
   "metadata": {},
   "outputs": [],
   "source": [
    "# IMPORT TENSORFLOW AND KERAS\n",
    "import tensorflow\n",
    "from tensorflow.keras.models import Sequential\n",
    "from tensorflow.keras.layers import Dense, Dropout, Flatten, LSTM\n",
    "from tensorflow.keras.optimizers import Adam, RMSprop \n",
    "from tensorflow.keras.utils import plot_model\n",
    "from tensorflow.keras.callbacks import EarlyStopping, ModelCheckpoint, TensorBoard\n",
    "from tensorflow import keras\n",
    "\n"
   ]
  },
  {
   "cell_type": "code",
   "execution_count": null,
   "id": "96005076",
   "metadata": {},
   "outputs": [],
   "source": []
  },
  {
   "cell_type": "code",
   "execution_count": null,
   "id": "641db7ac",
   "metadata": {},
   "outputs": [],
   "source": [
    "StockDataCSV/BTCBotData-Hourly.xlsx"
   ]
  },
  {
   "cell_type": "code",
   "execution_count": 45,
   "id": "458d424c",
   "metadata": {},
   "outputs": [],
   "source": [
    "data = pd.read_excel('StockDataCSV/BTCBotData-Hourly.xlsx')['Adj Close']\n"
   ]
  },
  {
   "cell_type": "code",
   "execution_count": 46,
   "id": "2c210c20",
   "metadata": {},
   "outputs": [],
   "source": [
    "data = np.array(data)\n",
    "data = np.reshape(data, (-1,1))\n",
    "\n",
    "train_data, test_data = train_test_split(data, train_size=0.8, test_size=0.2, shuffle=False)\n",
    "scaler = MinMaxScaler()\n",
    "scaled_train_data = scaler.fit_transform(train_data)\n",
    "scaled_test_data = scaler.transform(test_data)\n"
   ]
  },
  {
   "cell_type": "code",
   "execution_count": null,
   "id": "7e568b34",
   "metadata": {},
   "outputs": [],
   "source": []
  },
  {
   "cell_type": "code",
   "execution_count": 57,
   "id": "6f675b00",
   "metadata": {},
   "outputs": [],
   "source": [
    "std = pd.read_excel('StockDataCSV/Hourly_Start_Data.xlsx')"
   ]
  },
  {
   "cell_type": "code",
   "execution_count": 58,
   "id": "6cb137bc",
   "metadata": {},
   "outputs": [],
   "source": [
    "std = np.array(std.iloc[:,1])\n",
    "std = np.reshape(std, (-1, 1))\n"
   ]
  },
  {
   "cell_type": "code",
   "execution_count": 59,
   "id": "7cf09fa9",
   "metadata": {},
   "outputs": [
    {
     "data": {
      "text/plain": [
       "(2034, 1)"
      ]
     },
     "execution_count": 59,
     "metadata": {},
     "output_type": "execute_result"
    }
   ],
   "source": [
    "std.shape"
   ]
  },
  {
   "cell_type": "code",
   "execution_count": 30,
   "id": "b974b25e",
   "metadata": {},
   "outputs": [],
   "source": [
    "model = keras.models.load_model('results/lstm_time_series/model_hourly.h5')\n"
   ]
  },
  {
   "cell_type": "code",
   "execution_count": 32,
   "id": "8ca8d6d8",
   "metadata": {},
   "outputs": [
    {
     "name": "stdout",
     "output_type": "stream",
     "text": [
      "Model: \"sequential\"\n",
      "_________________________________________________________________\n",
      " Layer (type)                Output Shape              Param #   \n",
      "=================================================================\n",
      " LSTM (LSTM)                 (None, 10)                480       \n",
      "                                                                 \n",
      " Output (Dense)              (None, 1)                 11        \n",
      "                                                                 \n",
      "=================================================================\n",
      "Total params: 491\n",
      "Trainable params: 491\n",
      "Non-trainable params: 0\n",
      "_________________________________________________________________\n"
     ]
    }
   ],
   "source": [
    "model.summary()"
   ]
  },
  {
   "cell_type": "code",
   "execution_count": 34,
   "id": "ea21e975",
   "metadata": {},
   "outputs": [],
   "source": [
    "pr = []\n",
    "pr = np.array(pr)\n"
   ]
  },
  {
   "cell_type": "code",
   "execution_count": 36,
   "id": "ac95b5cc",
   "metadata": {},
   "outputs": [],
   "source": [
    "scaler = MinMaxScaler()\n"
   ]
  },
  {
   "cell_type": "code",
   "execution_count": 55,
   "id": "84232fbd",
   "metadata": {},
   "outputs": [
    {
     "name": "stdout",
     "output_type": "stream",
     "text": [
      "1/1 [==============================] - 0s 38ms/step\n"
     ]
    }
   ],
   "source": [
    "    m=[]\n",
    "    m.append(std[std.size-60:std.size, 0])\n",
    "    m1 = np.array(m)\n",
    "    m2 = np.reshape(m1, (m1.shape[0], m1.shape[1], 1))\n",
    "    p = model.predict(m2)\n",
    "    #std = np.append(std, p)\n",
    "    #std = np.reshape(std, (-1, 1))\n",
    "    pr = np.append(pr, scaler.inverse_transform(p).flatten())"
   ]
  },
  {
   "cell_type": "code",
   "execution_count": 48,
   "id": "38871b3a",
   "metadata": {},
   "outputs": [
    {
     "data": {
      "text/plain": [
       "array([18954.79492188])"
      ]
     },
     "execution_count": 48,
     "metadata": {},
     "output_type": "execute_result"
    }
   ],
   "source": [
    "pr"
   ]
  },
  {
   "cell_type": "code",
   "execution_count": null,
   "id": "920f0c9d",
   "metadata": {},
   "outputs": [],
   "source": []
  },
  {
   "cell_type": "code",
   "execution_count": null,
   "id": "7b79608f",
   "metadata": {},
   "outputs": [],
   "source": []
  }
 ],
 "metadata": {
  "kernelspec": {
   "display_name": "Python 3 (ipykernel)",
   "language": "python",
   "name": "python3"
  },
  "language_info": {
   "codemirror_mode": {
    "name": "ipython",
    "version": 3
   },
   "file_extension": ".py",
   "mimetype": "text/x-python",
   "name": "python",
   "nbconvert_exporter": "python",
   "pygments_lexer": "ipython3",
   "version": "3.9.7"
  },
  "varInspector": {
   "cols": {
    "lenName": 16,
    "lenType": 16,
    "lenVar": 40
   },
   "kernels_config": {
    "python": {
     "delete_cmd_postfix": "",
     "delete_cmd_prefix": "del ",
     "library": "var_list.py",
     "varRefreshCmd": "print(var_dic_list())"
    },
    "r": {
     "delete_cmd_postfix": ") ",
     "delete_cmd_prefix": "rm(",
     "library": "var_list.r",
     "varRefreshCmd": "cat(var_dic_list()) "
    }
   },
   "types_to_exclude": [
    "module",
    "function",
    "builtin_function_or_method",
    "instance",
    "_Feature"
   ],
   "window_display": false
  }
 },
 "nbformat": 4,
 "nbformat_minor": 5
}
